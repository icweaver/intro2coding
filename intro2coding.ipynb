{
  "nbformat": 4,
  "nbformat_minor": 0,
  "metadata": {
    "colab": {
      "name": "intro2coding.ipynb",
      "provenance": [],
      "collapsed_sections": [
        "OqaJxqLWV-76",
        "isPgxypVYKqd",
        "CBcNGvHTp8em",
        "0mIFdjI2uwtq",
        "40cLBOKMwUOc"
      ],
      "toc_visible": true,
      "include_colab_link": true
    },
    "kernelspec": {
      "name": "python3",
      "display_name": "Python 3"
    },
    "language_info": {
      "name": "python"
    }
  },
  "cells": [
    {
      "cell_type": "markdown",
      "metadata": {
        "id": "view-in-github",
        "colab_type": "text"
      },
      "source": [
        "<a href=\"https://colab.research.google.com/github/icweaver/intro2coding/blob/main/intro2coding.ipynb\" target=\"_parent\"><img src=\"https://colab.research.google.com/assets/colab-badge.svg\" alt=\"Open In Colab\"/></a>"
      ]
    },
    {
      "cell_type": "markdown",
      "metadata": {
        "id": "pOB5THOGL8DF"
      },
      "source": [
        "### **Coding for the First Time (in Python!)**\n",
        "\n",
        "Sarah Blunt (2021)\n",
        "\n",
        "This tutorial takes you through some foundational Python operations, from the perspective of a research astronomer. It aims to provide a bit of backround on how computers interpret code, while at the same time showing you what you need to type in order to make things work.\n",
        "\n",
        "I absolutely encourage you to look up other intro Python tutorials on the internet (e.g. https://www.learnpython.org/)! There are some excellent free resources out there. \n",
        "\n",
        "The main part of this lesson is designed to take 1 hour, and to be executed independently while an instructor walks around to answer questions and give hints.\n",
        "\n",
        "The mini-projects at the very end are open-ended, and may take between 10 mins and a few hours each. The idea is to pick one (or a few) to work on, rather than aiming to complete all of them.\n",
        "\n",
        "By the end of this tutorial, you will be able to:\n",
        "\n",
        "- Use comments, variables, functions, conditionals, loops, and imports to write Python code.\n",
        "- Identify objects of type `str`, `float`, `int`, `function`, and `bool`, and use Python's `type` function to check.\n",
        "- Explain the three main steps a computer executes while running code, and analyze the current state of the local environment after each line is parsed."
      ]
    },
    {
      "cell_type": "markdown",
      "metadata": {
        "id": "nkDEqy1eNdMp"
      },
      "source": [
        "## Comments"
      ]
    },
    {
      "cell_type": "code",
      "metadata": {
        "id": "WzJAnfKtM3OI"
      },
      "source": [
        "# In Python, comments (any line starting with #, or multi-line comments, \n",
        "# in between \"\"\"s) are not run. The computer treats them as if they don't exist! \n",
        "# Try running this cell; nothing will happen.\n",
        "\n",
        "# Why do you think we have comments, if they don't cause the computer to do anything?\n",
        "\n",
        "\"\"\"\n",
        "Type your answer here\n",
        "\"\"\""
      ],
      "execution_count": null,
      "outputs": []
    },
    {
      "cell_type": "markdown",
      "metadata": {
        "id": "NcGsMdkrNfNA"
      },
      "source": [
        "# Your First Line of Code!"
      ]
    },
    {
      "cell_type": "code",
      "metadata": {
        "id": "IXjvh1PGNilO"
      },
      "source": [
        "# What do you think will happen when you run the following line of code?\n",
        "\n",
        "print('Hello my friend!')\n",
        "\n",
        "# Try printing out your own message below:\n",
        "\n",
        "## your code here: ##\n",
        "\n",
        "\n",
        "\n",
        "#####################"
      ],
      "execution_count": null,
      "outputs": []
    },
    {
      "cell_type": "markdown",
      "metadata": {
        "id": "wl_Mg9vRN-br"
      },
      "source": [
        "# Types in Python"
      ]
    },
    {
      "cell_type": "code",
      "metadata": {
        "id": "PHhzbrr_OGSd"
      },
      "source": [
        "# What's the difference between the line of code below and the line of code above?\n",
        "# What happens when you run this line?\n",
        "\n",
        "print(Hello World!)"
      ],
      "execution_count": null,
      "outputs": []
    },
    {
      "cell_type": "code",
      "metadata": {
        "id": "3TTOvayxOQmK"
      },
      "source": [
        "# We've encountered our first error in Python! These can be frustrating when you \n",
        "# are starting out, but they are eventually very helpful. They tell you that\n",
        "# A) something is wrong with your code, and B) give you clues as to where and\n",
        "# why something went wrong.\n",
        "\n",
        "# The reason we encountered this error is because the \"print\" function in Python\n",
        "# only operates on certain **types**.\n",
        "\n",
        "# Here are a few examples of some important types in Python:\n",
        "\n",
        "\"hello\" # type \"str\" (short for \"string\")\n",
        "13      # type \"int\" (short for \"integer\")\n",
        "13.4    # type \"float\"\n",
        "\n",
        "# You can use the \"type\" function to figure out the types of each of these:\n",
        "\n",
        "print(type(\"hello\"))\n",
        "print(type(13))\n",
        "print(type(13.4))\n",
        "\n",
        "# What would you guess are the types of the following? Use the type function to check!\n",
        "\n",
        "'hi there!' # 1\n",
        "13.         # 2\n",
        "13 + 14     # 3"
      ],
      "execution_count": null,
      "outputs": []
    },
    {
      "cell_type": "markdown",
      "metadata": {
        "id": "pMS-j5XXQuar"
      },
      "source": [
        "# Functions"
      ]
    },
    {
      "cell_type": "code",
      "metadata": {
        "id": "E_CXhjMTQzYW"
      },
      "source": [
        "# You've actually already encountered a fourth Python type: functions!\n",
        "\n",
        "print(type(print))"
      ],
      "execution_count": null,
      "outputs": []
    },
    {
      "cell_type": "code",
      "metadata": {
        "id": "bjk69-F3R9UP"
      },
      "source": [
        "# Functions in Python operate very similarly to how they do in math. Let's\n",
        "# define our own function to see how they work:\n",
        "\n",
        "# This defines how the function works\n",
        "def my_function():\n",
        "    print('hello!')\n",
        "\n",
        "# This runs the function\n",
        "my_function()\n",
        "\n",
        "# What do you think would happen if we didn't run the function (i.e. removed the\n",
        "# line above?)"
      ],
      "execution_count": null,
      "outputs": []
    },
    {
      "cell_type": "code",
      "metadata": {
        "id": "eEHe4HMoSuoD"
      },
      "source": [
        "# You can also write functions that use **arguments**. Here's an example:\n",
        "\n",
        "def my_function_with_args(first_arg, second_arg):\n",
        "  print(first_arg + second_arg)\n",
        "\n",
        "# Figure out how to run this function on two \"int\"s. What do you think will\n",
        "# happen if you try to run it on two \"str\"s?\n",
        "\n",
        "## your code here: ##\n",
        "\n",
        "\n",
        "#####################"
      ],
      "execution_count": null,
      "outputs": []
    },
    {
      "cell_type": "code",
      "metadata": {
        "id": "36QOcIHsTQqG"
      },
      "source": [
        "# One last thing to know about functions: they can also \"return\" something. \n",
        "# Here's an example:\n",
        "\n",
        "# Define the function\n",
        "def my_returning_function(arg1, arg2):\n",
        "  intermediate_variable = arg1 + arg2\n",
        "  return intermediate_variable\n",
        "\n",
        "# Run the function\n",
        "foo = my_returning_function(1, 2)\n",
        "\n",
        "# Why didn't running this cell do anything? How could you get Python\n",
        "# to tell you what \"foo\" is?\n",
        "\n",
        "\"\"\"\n",
        "Your thoughts here:\n",
        "\n",
        "\"\"\""
      ],
      "execution_count": null,
      "outputs": []
    },
    {
      "cell_type": "markdown",
      "metadata": {
        "id": "OqaJxqLWV-76"
      },
      "source": [
        "# Variables"
      ]
    },
    {
      "cell_type": "code",
      "metadata": {
        "id": "WrpdpaJnWBG1"
      },
      "source": [
        "# In the code above, we also encountered variables for the first time.\n",
        "\n",
        "# Let's take a look at how variables work (hint: it's similar to how they work\n",
        "# in math!). In the code below, foo, bar, and foobar are all **variables**.\n",
        "\n",
        "# Before you run this cell, write down below what you expect it to print out:\n",
        "\n",
        "\"\"\"\n",
        "Your guess here:\n",
        "\n",
        "\"\"\"\n",
        "\n",
        "foo = 1\n",
        "bar = 2\n",
        "\n",
        "foobar = 1 + 2\n",
        "\n",
        "print(foobar)\n",
        "print(type(foobar))\n",
        "\n",
        "foobar = \"hello!\"\n",
        "\n",
        "print(foobar)\n",
        "print(type(foobar))"
      ],
      "execution_count": null,
      "outputs": []
    },
    {
      "cell_type": "markdown",
      "metadata": {
        "id": "isPgxypVYKqd"
      },
      "source": [
        "# How Computers Read Code"
      ]
    },
    {
      "cell_type": "code",
      "metadata": {
        "id": "hKMjkSP1YPJ2"
      },
      "source": [
        "# At this point, you know enough code to start learning about \n",
        "# how computers read code. This concept isn't generally taught in\n",
        "# intro Python tutorials, but I think it's invalauble for debugging (finding \n",
        "# errors), writing fast code, and a whole host of other things. \n",
        "\n",
        "# There are three main steps in the process of a computer running some code:\n",
        "# parsing, compiling, and executing\n",
        "\n",
        "# **Parsing** is the process of translating the code to units that the computer\n",
        "# can understand. You can think of parsing as populating an \"environment\" (list)\n",
        "# of currently defined variables and using this to translate later lines.\n",
        "\n",
        "## A disclaimer: this is pretty simplified! The boundary between parsing \n",
        "## and compiling is pretty blurry, so these exact definitions may change\n",
        "## depending on what language you're using. \n",
        "\n",
        "# The code:\n",
        "\n",
        "var1 = \"hello \"\n",
        "var2 = \"there!\"\n",
        "newvar = var1 + var2\n",
        "\n",
        "# After parsing the first line, the environment looks like:\n",
        "\n",
        "\"\"\"\n",
        "var1 -> \"hello \" (type str)\n",
        "\"\"\"\n",
        "\n",
        "# After parsing the second line, the environment looks like:\n",
        "\n",
        "\"\"\"\n",
        "var1 -> \"hello \" (type str)\n",
        "var2 -> \"there!\" (type str)\n",
        "\"\"\"\n",
        "\n",
        "# After parsing the third line, the environment looks like:\n",
        "\n",
        "\"\"\"\n",
        "var1 -> \"hello \" (type str)\n",
        "var2 -> \"there!\" (type str)\n",
        "newvar -> output of function \"plus\" acting on \"hello \" and \"there!\" (type str)\n",
        "\"\"\"\n",
        "\n",
        "# Try doing this yourself with the following code:\n",
        "\n",
        "myvar = 3.5\n",
        "\n",
        "def my_new_function():\n",
        "  return \"what's up?\"\n",
        "\n",
        "anothervar = my_new_function()\n",
        "\n",
        "# After parsing the first line, the environment looks like:\n",
        "\n",
        "\"\"\"\n",
        "Your answer here:\n",
        "\n",
        "\"\"\"\n",
        "\n",
        "# After parsing the second & third lines, the environment looks like:\n",
        "\n",
        "\"\"\"\n",
        "Your answer here:\n",
        "\n",
        "\"\"\"\n",
        "\n",
        "# After parsing the fourth line, the environment looks like:\n",
        "\n",
        "\"\"\"\n",
        "Your answer here:\n",
        "\n",
        "\"\"\""
      ],
      "execution_count": null,
      "outputs": []
    },
    {
      "cell_type": "code",
      "metadata": {
        "id": "AwkQJTacoPJ6"
      },
      "source": [
        "# The second step, compiling, involves translating the parsed code into \n",
        "# machine-readable code. In Python, this is a several step process involving\n",
        "# translating to C, then compiling the C code into machine-readable code (think \n",
        "# 1s and 0s).\n",
        "\n",
        "# The last step is actually running the machine-readable and returning the \n",
        "# answer to you! This is often called \"execution.\"\n",
        "\n",
        "# After compilation and execution, the environment from our first example\n",
        "# looks like this:\n",
        "\n",
        "\"\"\"\n",
        "var1 -> \"hello \" (type str)\n",
        "var2 -> \"there!\" (type str)\n",
        "newvar -> \"hello there!\" (type str)\n",
        "\"\"\"\n",
        "\n",
        "# What does the environment from the second variable look like after execution?\n",
        "\n",
        "\"\"\"\n",
        "Your answer here!\n",
        "\"\"\""
      ],
      "execution_count": null,
      "outputs": []
    },
    {
      "cell_type": "markdown",
      "metadata": {
        "id": "CBcNGvHTp8em"
      },
      "source": [
        "# Conditionals and Loops"
      ]
    },
    {
      "cell_type": "code",
      "metadata": {
        "id": "Bng0-uElp_uj"
      },
      "source": [
        "# Using a conditional tells your computer \"do this ONLY IF this other thing is\n",
        "# true\". Let's take a look at how they work.\n",
        "\n",
        "a = 1      # one equals sign to define a variable\n",
        "\n",
        "if a == 1: # two equals signs to check truth value\n",
        "  print('yay!')\n",
        "else:\n",
        "  print('noooo')\n",
        "\n",
        "# What's happening under the hood in the code above? This involves a new Python \n",
        "# type-- bool (short for Boolean, i.e. True or False). First, the code a == 1\n",
        "# is translated to a Boolean value (in this case, True). The conditional\n",
        "# \"if\" just means \"execute this code is this next statement is True,\" so\n",
        "# we enter the first print statement.\n",
        "\n",
        "# Play around with the code above: \n",
        "\n",
        "# - What happens if you replace a == 1 with True? \n",
        "# - What happens if you define a=2 instead of a=1?"
      ],
      "execution_count": null,
      "outputs": []
    },
    {
      "cell_type": "code",
      "metadata": {
        "id": "nInc9jB-tZL_"
      },
      "source": [
        "# Let's take a look at another important structure in Python (and every other\n",
        "# coding language I know of)-- the for loop.\n",
        "\n",
        "# Here's what a for loop looks like:\n",
        "\n",
        "for i in [0,1,2,3]:\n",
        "  print(i)\n",
        "\n",
        "# What do you think will happen? Run the cell and see if you're right!"
      ],
      "execution_count": null,
      "outputs": []
    },
    {
      "cell_type": "code",
      "metadata": {
        "id": "3GKwC06Ft08e"
      },
      "source": [
        "# Exercise: write some code that prints out \"<<name>> is awesome!\"\n",
        "# for each person in the list [\"Sarah\", \"Jason\", \"BJ\"] if the person's name\n",
        "# has more than 3 letters (sorry, BJ). Google how to use Python's \"len\" function\n",
        "# to help you!\n",
        "\n",
        "## your code here: ##\n",
        "\n",
        "\n",
        "\n",
        "\n",
        "\n",
        "#####################"
      ],
      "execution_count": null,
      "outputs": []
    },
    {
      "cell_type": "markdown",
      "metadata": {
        "id": "0mIFdjI2uwtq"
      },
      "source": [
        "# Imports"
      ]
    },
    {
      "cell_type": "code",
      "metadata": {
        "id": "x7_kIU1ju3Zq"
      },
      "source": [
        "# The last thing I'd like to introduce is imports. Python's popularity\n",
        "# is due (in no small part!) to its extensive collection of useful code\n",
        "# written by people other than the primary developers. These collections of\n",
        "# code are called \"packages\" or \"libraries.\" You can use packages by \n",
        "# importing them.\n",
        "\n",
        "# Let's look at an example. \n",
        "\n",
        "import numpy as np\n",
        "\n",
        "print(np.arange(10))\n",
        "\n",
        "# In the two lines above, we've imported a package (numpy), told our computer\n",
        "# that we want to call this package \"np\" (instead of the more unweidly \"numpy\"),\n",
        "# then used the function `arange` from numpy, which prints out all whole numbers\n",
        "# smaller than the input number. Notice that we can't use `arange` alone, we \n",
        "# have to use `np.arange` to tell the computer that this function comes from\n",
        "# numpy."
      ],
      "execution_count": null,
      "outputs": []
    },
    {
      "cell_type": "markdown",
      "metadata": {
        "id": "40cLBOKMwUOc"
      },
      "source": [
        "# Mini-projects/Open-ended Exercises:"
      ]
    },
    {
      "cell_type": "markdown",
      "metadata": {
        "id": "NumydWYhwZrE"
      },
      "source": [
        "Congratulations on completing this tutorial! It is my hope that you are now\n",
        "prepared to start writing your own code (with lots of help from Google along the way!). Here are a few suggested mini-projects that you can try. All of these will require getting outside help from the internet, so please Google around to your heart's content (i.e. don't assume everything you need will be in this notebook)."
      ]
    },
    {
      "cell_type": "code",
      "metadata": {
        "id": "ld1qjKXTeNf4"
      },
      "source": [
        "# mini-project #1: what is string formatting? How is it different from using the \n",
        "# + operator to combine strings? Code up a few examples.\n",
        "\n",
        "\n"
      ],
      "execution_count": null,
      "outputs": []
    },
    {
      "cell_type": "code",
      "metadata": {
        "id": "SfSY9DzQxnwz"
      },
      "source": [
        "# mini-project #2: make a plot using the matplotlib package. \n",
        "\n",
        "\n"
      ],
      "execution_count": null,
      "outputs": []
    },
    {
      "cell_type": "code",
      "metadata": {
        "id": "0rvKfbE6xzxN"
      },
      "source": [
        "# mini-project #3: learn to read a .fits file using the astropy package.\n",
        "\n",
        "\n"
      ],
      "execution_count": null,
      "outputs": []
    },
    {
      "cell_type": "code",
      "metadata": {
        "id": "xKchSeAUx8c3"
      },
      "source": [
        "# mini-project #4: what are dictionaries (Python's name for hash tables)? \n",
        "# How do they work?\n",
        "\n",
        "\n"
      ],
      "execution_count": null,
      "outputs": []
    },
    {
      "cell_type": "code",
      "metadata": {
        "id": "UT1nDkdxyvhm"
      },
      "source": [
        "# mini-project #5: what are lists? How do they work?\n",
        "\n",
        "\n"
      ],
      "execution_count": null,
      "outputs": []
    },
    {
      "cell_type": "code",
      "metadata": {
        "id": "PG5Z3uqWzvRh"
      },
      "source": [
        "# mini-project #6: what's wrong with the following code? It's not working the \n",
        "# way the examples say it should. Please fix it! :) Fun fact: this is an example \n",
        "# of a \"recursive\" function, meaning that it calls itself! \n",
        "\n",
        "# Hint: Google \"Fibonacci numbers\" if you're not familar with them.\n",
        "\n",
        "def get_ith_fibonnacci_number(i):\n",
        "  \"\"\"\n",
        "  This is a function that returns the \"ith\" Fibonnacci number.\n",
        "\n",
        "  Examples:\n",
        "    get_ith_fibonnacci_number(0) -> 0\n",
        "    get_ith_fibonnacci_number(1) -> 1\n",
        "    get_ith_fibonnacci_number(2) -> 1\n",
        "    get_ith_fibonnacci_number(8) -> 21\n",
        "\n",
        "  Args:\n",
        "    i (int) the index of the number you want\n",
        "\n",
        "  Returns:\n",
        "    float: the ith Fibonnacci number\n",
        "  \"\"\"\n",
        "\n",
        "  if i == 0:\n",
        "    return 0\n",
        "\n",
        "  elif i == 1:\n",
        "    return 0\n",
        "\n",
        "  else:\n",
        "    return get_ith_fibonnacci_number(i-1) + get_ith_fibonnacci_number(i-1)\n",
        "\n",
        "\n",
        "# You can use this line to run the code. Feel free to change the input\n",
        "# as you test!\n",
        "get_ith_fibonnacci_number(2)"
      ],
      "execution_count": null,
      "outputs": []
    }
  ]
}